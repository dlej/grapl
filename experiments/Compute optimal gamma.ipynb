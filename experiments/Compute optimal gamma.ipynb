{
 "cells": [
  {
   "cell_type": "code",
   "execution_count": 94,
   "metadata": {
    "collapsed": true
   },
   "outputs": [],
   "source": [
    "import numpy as np\n",
    "from scipy import sparse\n",
    "from scipy.sparse import eye as speye\n",
    "from scipy.sparse.linalg import cg\n",
    "\n",
    "from matplotlib import pyplot as plt\n",
    "\n",
    "import networkx as nx"
   ]
  },
  {
   "cell_type": "code",
   "execution_count": 70,
   "metadata": {
    "collapsed": true
   },
   "outputs": [],
   "source": [
    "def compute_d(lamda, eigvals, H, M, mu_norm):\n",
    "    \n",
    "    q = 2 * H * (3 * M + 1) ** 2 * mu_norm ** 2 \n",
    "    v = q / np.log(1 + q / lamda) / eigvals\n",
    "    \n",
    "    return np.sum(np.arange(len(v)) <= v)"
   ]
  },
  {
   "cell_type": "code",
   "execution_count": 156,
   "metadata": {},
   "outputs": [
    {
     "name": "stdout",
     "output_type": "stream",
     "text": [
      ".........9\n",
      ".........19\n",
      ".........29\n",
      ".........39\n",
      ".........49\n",
      ".........59\n",
      ".........69\n",
      ".........79\n",
      ".........89\n",
      ".........99\n",
      "19.6563297571 0.793702319609\n"
     ]
    }
   ],
   "source": [
    "n = 1000\n",
    "lamda = 1e-3\n",
    "tau = 0\n",
    "sigma = 2\n",
    "epsilon = 0.01\n",
    "alpha = 1\n",
    "\n",
    "gamma_0 = 10\n",
    "\n",
    "gammas = []\n",
    "\n",
    "for k in range(100):\n",
    "\n",
    "    if (k + 1) % 10 == 0:\n",
    "        print(k)\n",
    "    else:\n",
    "        print('.', end='')\n",
    "        \n",
    "    p_inner = np.log(n // 2) / (n // 2)\n",
    "    p_cross = p_inner / np.sqrt(n // 2)\n",
    "    graph = nx.stochastic_block_model([n // 2, n - n // 2], [[p_inner, p_cross], [p_cross, p_inner]])\n",
    "\n",
    "    L = nx.linalg.laplacian_matrix(graph) + lamda * sparse.eye(n)\n",
    "\n",
    "    mu = np.ones(n)\n",
    "    mu[n // 2:] = -1\n",
    "\n",
    "    H = np.sum(1 / (abs(mu - tau) + epsilon)**2)\n",
    "    mu_norm = np.sqrt((mu - tau) @ (L @ (mu - tau)))\n",
    "\n",
    "    eigvals = np.sort(np.linalg.eigvals(L.A))\n",
    "    gamma = gamma_0\n",
    "\n",
    "    for i in range(100):\n",
    "        M = max(np.sqrt(1 + alpha), np.sqrt(alpha / gamma / lamda))\n",
    "        d = compute_d(lamda, eigvals, H, M, mu_norm)\n",
    "        gamma = sigma / mu_norm * np.sqrt(2 * d * np.log(1 + 2 * H * (3 * M + 1) ** 2 * mu_norm ** 2 / lamda))\n",
    "\n",
    "    gammas.append(gamma)\n",
    "\n",
    "print(np.mean(gammas), np.std(gammas))"
   ]
  },
  {
   "cell_type": "code",
   "execution_count": 162,
   "metadata": {},
   "outputs": [
    {
     "name": "stdout",
     "output_type": "stream",
     "text": [
      ".........9\n",
      ".........19\n",
      ".........29\n",
      ".........39\n",
      ".........49\n",
      ".........59\n",
      ".........69\n",
      ".........79\n",
      ".........89\n",
      ".........99\n",
      "163.00066577 33.4991047388\n"
     ]
    }
   ],
   "source": [
    "n = 1000\n",
    "m = 4\n",
    "p = 0.01\n",
    "lamda = 1e-3\n",
    "lamda_gen = n\n",
    "tau = 0.5\n",
    "sigma = 1 / 2\n",
    "epsilon = 0.01\n",
    "alpha = 1e-8\n",
    "\n",
    "gamma_0 = 10\n",
    "\n",
    "gammas = []\n",
    "\n",
    "for k in range(100):\n",
    "\n",
    "    if (k + 1) % 10 == 0:\n",
    "        print(k)\n",
    "    else:\n",
    "        print('.', end='')\n",
    "    \n",
    "    graph = nx.newman_watts_strogatz_graph(n, m, p)\n",
    "    \n",
    "    L = nx.linalg.laplacian_matrix(graph) + speye(n) * lamda\n",
    "    \n",
    "    # generate random smooth signal and clip to [0, 1]\n",
    "    mu, info = cg(L + speye(n) / lamda_gen / n, np.random.randn(n))\n",
    "    mu -= np.median(mu)\n",
    "    mu /= np.std(mu) * 5\n",
    "    mu += 0.5\n",
    "    mu = np.clip(mu, 0, 1)\n",
    "        \n",
    "    H = np.sum(1 / (abs(mu - tau) + epsilon)**2)\n",
    "    mu_norm = np.sqrt((mu - tau) @ (L @ (mu - tau)))\n",
    "\n",
    "    eigvals = np.sort(np.linalg.eigvals(L.A))\n",
    "    gamma = gamma_0\n",
    "\n",
    "    for i in range(100):\n",
    "        M = max(np.sqrt(1 + alpha), np.sqrt(alpha / gamma / lamda))\n",
    "        d = compute_d(lamda, eigvals, H, M, mu_norm)\n",
    "        gamma = sigma / mu_norm * np.sqrt(2 * d * np.log(1 + 2 * H * (3 * M + 1) ** 2 * mu_norm ** 2 / lamda))\n",
    "\n",
    "    gammas.append(gamma)\n",
    "\n",
    "print(np.mean(gammas), np.std(gammas))"
   ]
  },
  {
   "cell_type": "code",
   "execution_count": 159,
   "metadata": {},
   "outputs": [
    {
     "name": "stdout",
     "output_type": "stream",
     "text": [
      "10\n",
      "130.731121549\n",
      "130.731121549\n",
      "130.731121549\n",
      "130.731121549\n",
      "130.731121549\n",
      "130.731121549\n",
      "130.731121549\n",
      "130.731121549\n",
      "130.731121549\n",
      "20 130.731121549 1.000000005 17286.7600093\n"
     ]
    }
   ],
   "source": [
    "n = 1000\n",
    "D = 20\n",
    "lamda = 1e-5\n",
    "tau = 0\n",
    "epsilon = 0.1\n",
    "alpha = 1e-8\n",
    "sigma = 1 / 2\n",
    "\n",
    "gamma_0 = 10\n",
    "\n",
    "graph = nx.disjoint_union_all([nx.complete_graph(n // D) for _ in range(D)])\n",
    "\n",
    "L = nx.linalg.laplacian_matrix(graph) + lamda * speye(n)\n",
    "\n",
    "# generate random signal that is constant on cliques\n",
    "mu = np.repeat(np.random.rand(D) > 0.5, n//D).astype(float) * 2 - 1\n",
    "\n",
    "H = np.sum(1 / (abs(mu - tau) + epsilon)**2) \n",
    "mu_norm = np.sqrt((mu - tau) @ (L @ (mu - tau)))\n",
    "\n",
    "eigvals = np.sort(np.linalg.eigvalsh(L.A))\n",
    "gamma = gamma_0\n",
    "\n",
    "for i in range(10):\n",
    "    M = max(np.sqrt(1 + alpha), np.sqrt(alpha / gamma / lamda))\n",
    "    d = compute_d(lamda, eigvals, H, M, mu_norm)\n",
    "    print(gamma)\n",
    "    gamma = sigma / mu_norm * np.sqrt(2 * d * np.log(1 + 2 * H * (3 * M + 1) ** 2 * mu_norm ** 2 / lamda))\n",
    "\n",
    "T = gamma * H * (3 * M + 1) ** 2 * mu_norm ** 2\n",
    "\n",
    "print(d, gamma, M, T)"
   ]
  },
  {
   "cell_type": "code",
   "execution_count": null,
   "metadata": {
    "collapsed": true
   },
   "outputs": [],
   "source": []
  }
 ],
 "metadata": {
  "kernelspec": {
   "display_name": "Python 3",
   "language": "python",
   "name": "python3"
  },
  "language_info": {
   "codemirror_mode": {
    "name": "ipython",
    "version": 3
   },
   "file_extension": ".py",
   "mimetype": "text/x-python",
   "name": "python",
   "nbconvert_exporter": "python",
   "pygments_lexer": "ipython3",
   "version": "3.6.7"
  }
 },
 "nbformat": 4,
 "nbformat_minor": 2
}
